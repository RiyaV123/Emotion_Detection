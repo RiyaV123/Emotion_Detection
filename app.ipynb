{
 "cells": [
  {
   "cell_type": "code",
   "execution_count": 1,
   "id": "b4818cd5",
   "metadata": {},
   "outputs": [],
   "source": [
    "import numpy as np\n",
    "import pandas as pd\n",
    "import re\n",
    "import matplotlib.pyplot as plt\n",
    "from tensorflow.keras.preprocessing.text import Tokenizer\n",
    "from tensorflow.keras.preprocessing.sequence import pad_sequences\n",
    "from sklearn.preprocessing import LabelEncoder\n",
    "from sklearn.model_selection import train_test_split\n",
    "from tensorflow.keras.models import Sequential\n",
    "from tensorflow.keras.layers import Embedding,Dense,LSTM,Dropout,Bidirectional,BatchNormalization\n",
    "from tensorflow.keras.optimizers import Adam\n",
    "from imblearn.over_sampling import RandomOverSampler\n",
    "from collections import Counter"
   ]
  },
  {
   "cell_type": "code",
   "execution_count": 2,
   "id": "2fef192d",
   "metadata": {},
   "outputs": [
    {
     "data": {
      "text/html": [
       "<div>\n",
       "<style scoped>\n",
       "    .dataframe tbody tr th:only-of-type {\n",
       "        vertical-align: middle;\n",
       "    }\n",
       "\n",
       "    .dataframe tbody tr th {\n",
       "        vertical-align: top;\n",
       "    }\n",
       "\n",
       "    .dataframe thead th {\n",
       "        text-align: right;\n",
       "    }\n",
       "</style>\n",
       "<table border=\"1\" class=\"dataframe\">\n",
       "  <thead>\n",
       "    <tr style=\"text-align: right;\">\n",
       "      <th></th>\n",
       "      <th>text</th>\n",
       "      <th>label</th>\n",
       "    </tr>\n",
       "  </thead>\n",
       "  <tbody>\n",
       "    <tr>\n",
       "      <th>0</th>\n",
       "      <td>i didnt feel humiliated</td>\n",
       "      <td>sadness</td>\n",
       "    </tr>\n",
       "    <tr>\n",
       "      <th>1</th>\n",
       "      <td>i can go from feeling so hopeless to so damned...</td>\n",
       "      <td>sadness</td>\n",
       "    </tr>\n",
       "    <tr>\n",
       "      <th>2</th>\n",
       "      <td>im grabbing a minute to post i feel greedy wrong</td>\n",
       "      <td>anger</td>\n",
       "    </tr>\n",
       "    <tr>\n",
       "      <th>3</th>\n",
       "      <td>i am ever feeling nostalgic about the fireplac...</td>\n",
       "      <td>love</td>\n",
       "    </tr>\n",
       "    <tr>\n",
       "      <th>4</th>\n",
       "      <td>i am feeling grouchy</td>\n",
       "      <td>anger</td>\n",
       "    </tr>\n",
       "  </tbody>\n",
       "</table>\n",
       "</div>"
      ],
      "text/plain": [
       "                                                text    label\n",
       "0                            i didnt feel humiliated  sadness\n",
       "1  i can go from feeling so hopeless to so damned...  sadness\n",
       "2   im grabbing a minute to post i feel greedy wrong    anger\n",
       "3  i am ever feeling nostalgic about the fireplac...     love\n",
       "4                               i am feeling grouchy    anger"
      ]
     },
     "execution_count": 2,
     "metadata": {},
     "output_type": "execute_result"
    }
   ],
   "source": [
    "data=pd.read_csv(\"emotion_dataset.csv\")\n",
    "data.head()"
   ]
  },
  {
   "cell_type": "code",
   "execution_count": 3,
   "id": "7460043b",
   "metadata": {},
   "outputs": [],
   "source": [
    "def preprocess_text(text):\n",
    "    text=text.lower()\n",
    "    text=re.sub(r'http\\S+','',text)\n",
    "    text=re.sub(r'@\\w+','',text)\n",
    "    text=re.sub(r'#\\w','',text)\n",
    "    text=re.sub(r'[^a-z\\s]','',text)\n",
    "    text=re.sub(r'\\s+',' ',text).strip()\n",
    "    return text\n",
    "data[\"text\"]=data[\"text\"].astype(str).apply(preprocess_text)"
   ]
  },
  {
   "cell_type": "code",
   "execution_count": 4,
   "id": "b50df97f",
   "metadata": {},
   "outputs": [],
   "source": [
    "label_encoder=LabelEncoder()\n",
    "data[\"label\"]=label_encoder.fit_transform(data[\"label\"])"
   ]
  },
  {
   "cell_type": "code",
   "execution_count": 5,
   "id": "deafc151",
   "metadata": {},
   "outputs": [
    {
     "data": {
      "text/html": [
       "<div>\n",
       "<style scoped>\n",
       "    .dataframe tbody tr th:only-of-type {\n",
       "        vertical-align: middle;\n",
       "    }\n",
       "\n",
       "    .dataframe tbody tr th {\n",
       "        vertical-align: top;\n",
       "    }\n",
       "\n",
       "    .dataframe thead th {\n",
       "        text-align: right;\n",
       "    }\n",
       "</style>\n",
       "<table border=\"1\" class=\"dataframe\">\n",
       "  <thead>\n",
       "    <tr style=\"text-align: right;\">\n",
       "      <th></th>\n",
       "      <th>text</th>\n",
       "      <th>label</th>\n",
       "    </tr>\n",
       "  </thead>\n",
       "  <tbody>\n",
       "    <tr>\n",
       "      <th>0</th>\n",
       "      <td>i didnt feel humiliated</td>\n",
       "      <td>3</td>\n",
       "    </tr>\n",
       "    <tr>\n",
       "      <th>1</th>\n",
       "      <td>i can go from feeling so hopeless to so damned...</td>\n",
       "      <td>3</td>\n",
       "    </tr>\n",
       "    <tr>\n",
       "      <th>2</th>\n",
       "      <td>im grabbing a minute to post i feel greedy wrong</td>\n",
       "      <td>0</td>\n",
       "    </tr>\n",
       "    <tr>\n",
       "      <th>3</th>\n",
       "      <td>i am ever feeling nostalgic about the fireplac...</td>\n",
       "      <td>2</td>\n",
       "    </tr>\n",
       "    <tr>\n",
       "      <th>4</th>\n",
       "      <td>i am feeling grouchy</td>\n",
       "      <td>0</td>\n",
       "    </tr>\n",
       "  </tbody>\n",
       "</table>\n",
       "</div>"
      ],
      "text/plain": [
       "                                                text  label\n",
       "0                            i didnt feel humiliated      3\n",
       "1  i can go from feeling so hopeless to so damned...      3\n",
       "2   im grabbing a minute to post i feel greedy wrong      0\n",
       "3  i am ever feeling nostalgic about the fireplac...      2\n",
       "4                               i am feeling grouchy      0"
      ]
     },
     "execution_count": 5,
     "metadata": {},
     "output_type": "execute_result"
    }
   ],
   "source": [
    "data.head()"
   ]
  },
  {
   "cell_type": "code",
   "execution_count": 6,
   "id": "2dc55b8e",
   "metadata": {},
   "outputs": [
    {
     "data": {
      "image/png": "[encoded data removed]",
      "text/plain": [
       "<Figure size 600x400 with 1 Axes>"
      ]
     },
     "metadata": {},
     "output_type": "display_data"
    }
   ],
   "source": [
    "plt.figure(figsize=(6,4))\n",
    "plt.bar(Counter(data['label']).keys(),Counter(data['label']).values())\n",
    "plt.title(\"Class Distribution Before Balancing\")\n",
    "plt.xlabel(\"Emotion Label\")\n",
    "plt.ylabel(\"Count\")\n",
    "plt.show()"
   ]
  },
  {
   "cell_type": "code",
   "execution_count": 7,
   "id": "deaad7e6",
   "metadata": {},
   "outputs": [],
   "source": [
    "tokenizer=Tokenizer()\n",
    "tokenizer.fit_on_texts(data[\"text\"])\n",
    "vocal_size=len(tokenizer.word_index)+1\n",
    "max_length=100\n",
    "\n",
    "X=tokenizer.texts_to_sequences(data[\"text\"])\n",
    "X=pad_sequences(X,maxlen=max_length,padding='post')\n",
    "y=data[\"label\"].values"
   ]
  },
  {
   "cell_type": "code",
   "execution_count": 8,
   "id": "8f98ebca",
   "metadata": {},
   "outputs": [],
   "source": [
    "ros=RandomOverSampler(random_state=42)\n",
    "X_resampled,y_resampled=ros.fit_resample(X,y)"
   ]
  },
  {
   "cell_type": "code",
   "execution_count": 9,
   "id": "a6ac3acf",
   "metadata": {},
   "outputs": [
    {
     "data": {
      "image/png": "[encoded data removed]",
      "text/plain": [
       "<Figure size 600x400 with 1 Axes>"
      ]
     },
     "metadata": {},
     "output_type": "display_data"
    }
   ],
   "source": [
    "plt.figure(figsize=(6,4))\n",
    "plt.bar(Counter(y_resampled).keys(),Counter(y_resampled).values())\n",
    "plt.title(\"Class Distribution After Balancing\")\n",
    "plt.xlabel(\"Emotion Label\")\n",
    "plt.ylabel(\"Count\")\n",
    "plt.show()"
   ]
  },
  {
   "cell_type": "code",
   "execution_count": 10,
   "id": "7392e351",
   "metadata": {},
   "outputs": [],
   "source": [
    "X_train,X_test,y_train,y_test=train_test_split(X_resampled,y_resampled,test_size=0.2,random_state=42)"
   ]
  },
  {
   "cell_type": "code",
   "execution_count": 11,
   "id": "1aa33a31",
   "metadata": {},
   "outputs": [],
   "source": [
    "model=Sequential([\n",
    "    Embedding(input_dim=vocal_size,output_dim=200,input_length=max_length),\n",
    "    Bidirectional(LSTM(128,return_sequences=True)),\n",
    "    BatchNormalization(),\n",
    "    Dropout(0.3),\n",
    "    Bidirectional(LSTM(64)),\n",
    "    BatchNormalization(),\n",
    "    Dropout(0.3),\n",
    "    Dense(32,activation='relu'),\n",
    "    BatchNormalization(),\n",
    "    Dense(len(np.unique(y_resampled)),activation='softmax')\n",
    "])"
   ]
  },
  {
   "cell_type": "code",
   "execution_count": 12,
   "id": "0598ba07",
   "metadata": {},
   "outputs": [
    {
     "name": "stdout",
     "output_type": "stream",
     "text": [
      "Epoch 1/10\n",
      "420/420 [==============================] - 187s 413ms/step - loss: 1.0067 - accuracy: 0.5713 - val_loss: 0.3901 - val_accuracy: 0.8855\n",
      "Epoch 2/10\n",
      "420/420 [==============================] - 173s 412ms/step - loss: 0.1842 - accuracy: 0.9466 - val_loss: 0.2398 - val_accuracy: 0.9337\n",
      "Epoch 3/10\n",
      "420/420 [==============================] - 169s 403ms/step - loss: 0.0873 - accuracy: 0.9760 - val_loss: 0.1869 - val_accuracy: 0.9444\n",
      "Epoch 4/10\n",
      "420/420 [==============================] - 169s 401ms/step - loss: 0.0633 - accuracy: 0.9814 - val_loss: 0.1344 - val_accuracy: 0.9652\n",
      "Epoch 5/10\n",
      "420/420 [==============================] - 169s 403ms/step - loss: 0.0514 - accuracy: 0.9859 - val_loss: 0.1894 - val_accuracy: 0.9605\n",
      "Epoch 6/10\n",
      "420/420 [==============================] - 168s 399ms/step - loss: 0.0437 - accuracy: 0.9886 - val_loss: 0.1281 - val_accuracy: 0.9705\n",
      "Epoch 7/10\n",
      "420/420 [==============================] - 176s 418ms/step - loss: 0.0382 - accuracy: 0.9891 - val_loss: 0.1188 - val_accuracy: 0.9732\n",
      "Epoch 8/10\n",
      "420/420 [==============================] - 168s 399ms/step - loss: 0.0335 - accuracy: 0.9908 - val_loss: 0.1304 - val_accuracy: 0.9659\n",
      "Epoch 9/10\n",
      "420/420 [==============================] - 163s 388ms/step - loss: 0.0354 - accuracy: 0.9897 - val_loss: 0.1343 - val_accuracy: 0.9692\n",
      "Epoch 10/10\n",
      "420/420 [==============================] - 164s 391ms/step - loss: 0.0296 - accuracy: 0.9916 - val_loss: 0.1320 - val_accuracy: 0.9759\n"
     ]
    }
   ],
   "source": [
    "model.compile(optimizer=Adam(learning_rate=0.001),\n",
    "              loss='sparse_categorical_crossentropy',\n",
    "              metrics=['accuracy'])\n",
    "history=model.fit(X_train,y_train,epochs=10,batch_size=32,validation_split=0.1,verbose=1)"
   ]
  },
  {
   "cell_type": "code",
   "execution_count": 13,
   "id": "b5f7f4d7",
   "metadata": {},
   "outputs": [
    {
     "name": "stdout",
     "output_type": "stream",
     "text": [
      "Test Acuuracy:0.9751\n"
     ]
    }
   ],
   "source": [
    "test_loss,test_accuracy=model.evaluate(X_test,y_test,verbose=0)\n",
    "print(f'Test Acuuracy:{test_accuracy:.4f}')"
   ]
  },
  {
   "cell_type": "code",
   "execution_count": 15,
   "id": "1e06c4f1",
   "metadata": {},
   "outputs": [
    {
     "name": "stderr",
     "output_type": "stream",
     "text": [
      "c:\\Users\\Lenovo\\EMOTION_DETECTION\\venv310\\lib\\site-packages\\keras\\src\\engine\\training.py:3000: UserWarning: You are saving your model as an HDF5 file via `model.save()`. This file format is considered legacy. We recommend using instead the native Keras format, e.g. `model.save('my_model.keras')`.\n",
      "  saving_api.save_model(\n"
     ]
    },
    {
     "data": {
      "text/plain": [
       "['label_encoder.jb']"
      ]
     },
     "execution_count": 15,
     "metadata": {},
     "output_type": "execute_result"
    }
   ],
   "source": [
    "import joblib \n",
    "model.save(\"emotion_model.h5\")\n",
    "joblib.dump(tokenizer,\"tokenizer.jb\")\n",
    "joblib.dump(label_encoder,\"label_encoder.jb\")"
   ]
  },
  {
   "cell_type": "code",
   "execution_count": null,
   "id": "f04604ae",
   "metadata": {},
   "outputs": [],
   "source": []
  }
 ],
 "metadata": {
  "kernelspec": {
   "display_name": "venv310",
   "language": "python",
   "name": "python3"
  },
  "language_info": {
   "codemirror_mode": {
    "name": "ipython",
    "version": 3
   },
   "file_extension": ".py",
   "mimetype": "text/x-python",
   "name": "python",
   "nbconvert_exporter": "python",
   "pygments_lexer": "ipython3",
   "version": "3.10.11"
  }
 },
 "nbformat": 4,
 "nbformat_minor": 5
}
